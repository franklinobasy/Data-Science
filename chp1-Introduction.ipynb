{
 "cells": [
  {
   "cell_type": "code",
   "execution_count": 1,
   "metadata": {},
   "outputs": [
    {
     "output_type": "stream",
     "name": "stdout",
     "text": "Welcome\n"
    }
   ],
   "source": [
    "print(\"Welcome\")"
   ]
  },
  {
   "cell_type": "code",
   "execution_count": 2,
   "metadata": {},
   "outputs": [],
   "source": [
    "users = [\n",
    "    {\"id\" : 0, \"name\" : \"Hero\"},\n",
    "    {\"id\" : 1, \"name\" : \"Dunn\"},\n",
    "    {\"id\" : 2, \"name\" : \"Sue\"},\n",
    "    {\"id\" : 3, \"name\" : \"Chi\"},\n",
    "    {\"id\" : 4, \"name\" : \"Thor\"},\n",
    "    {\"id\" : 5, \"name\" : \"Clive\"},\n",
    "    {\"id\" : 6, \"name\" : \"Hikes\"},\n",
    "    {\"id\" : 7, \"name\" : \"Devin\"},\n",
    "    {\"id\" : 8, \"name\" : \"Kate\"},\n",
    "    {\"id\" : 9, \"name\" : \"Klein\"}\n",
    "]"
   ]
  },
  {
   "cell_type": "code",
   "execution_count": 3,
   "metadata": {},
   "outputs": [],
   "source": [
    "frienships = [(0, 1), (0, 2), (1, 2), (1, 3),(2, 3), (3, 4), (4, 5), (5, 6), (5, 7), \n",
    "                (6, 8), (7, 8), (8, 9)]"
   ]
  },
  {
   "cell_type": "code",
   "execution_count": 6,
   "metadata": {},
   "outputs": [
    {
     "output_type": "execute_result",
     "data": {
      "text/plain": "[{'id': 0, 'name': 'Hero', 'friends': []},\n {'id': 1, 'name': 'Dunn', 'friends': []},\n {'id': 2, 'name': 'Sue', 'friends': []},\n {'id': 3, 'name': 'Chi', 'friends': []},\n {'id': 4, 'name': 'Thor', 'friends': []},\n {'id': 5, 'name': 'Clive', 'friends': []},\n {'id': 6, 'name': 'Hikes', 'friends': []},\n {'id': 7, 'name': 'Devin', 'friends': []},\n {'id': 8, 'name': 'Kate', 'friends': []},\n {'id': 9, 'name': 'Klein', 'friends': []}]"
     },
     "metadata": {},
     "execution_count": 6
    }
   ],
   "source": [
    "## We want to Add A List of friends to each user in users\n",
    "### for now, the list is empty\n",
    "\n",
    "for user in users:\n",
    "    user[\"friends\"] = []\n",
    "users"
   ]
  },
  {
   "cell_type": "code",
   "execution_count": 7,
   "metadata": {},
   "outputs": [
    {
     "output_type": "execute_result",
     "data": {
      "text/plain": "': 'Kate',\n                'friends': [{'id': 6,\n                  'name': 'Hikes',\n                  'friends': [{...}, {...}]},\n                 {...},\n                 {'id': 9, 'name': 'Klein', 'friends': [{...}]}]}]}]}]}]}]}]},\n   {'id': 2,\n    'name': 'Sue',\n    'friends': [{'id': 0, 'name': 'Hero', 'friends': [{...}, {...}]},\n     {...},\n     {'id': 3,\n      'name': 'Chi',\n      'friends': [{...},\n       {...},\n       {'id': 4,\n        'name': 'Thor',\n        'friends': [{...},\n         {'id': 5,\n          'name': 'Clive',\n          'friends': [{...},\n           {'id': 6,\n            'name': 'Hikes',\n            'friends': [{...},\n             {'id': 8,\n              'name': 'Kate',\n              'friends': [{...},\n               {'id': 7, 'name': 'Devin', 'friends': [{...}, {...}]},\n               {'id': 9, 'name': 'Klein', 'friends': [{...}]}]}]},\n           {'id': 7,\n            'name': 'Devin',\n            'friends': [{...},\n             {'id': 8,\n              'name': 'Kate',\n              'friends': [{'id': 6,\n                'name': 'Hikes',\n                'friends': [{...}, {...}]},\n               {...},\n               {'id': 9, 'name': 'Klein', 'friends': [{...}]}]}]}]}]}]}]},\n   {'id': 3,\n    'name': 'Chi',\n    'friends': [{...},\n     {'id': 2,\n      'name': 'Sue',\n      'friends': [{'id': 0, 'name': 'Hero', 'friends': [{...}, {...}]},\n       {...},\n       {...}]},\n     {'id': 4,\n      'name': 'Thor',\n      'friends': [{...},\n       {'id': 5,\n        'name': 'Clive',\n        'friends': [{...},\n         {'id': 6,\n          'name': 'Hikes',\n          'friends': [{...},\n           {'id': 8,\n            'name': 'Kate',\n            'friends': [{...},\n             {'id': 7, 'name': 'Devin', 'friends': [{...}, {...}]},\n             {'id': 9, 'name': 'Klein', 'friends': [{...}]}]}]},\n         {'id': 7,\n          'name': 'Devin',\n          'friends': [{...},\n           {'id': 8,\n            'name': 'Kate',\n            'friends': [{'id': 6, 'name': 'Hikes', 'friends': [{...}, {...}]},\n             {...},\n             {'id': 9, 'name': 'Klein', 'friends': [{...}]}]}]}]}]}]}]},\n {'id': 2,\n  'name': 'Sue',\n  'friends': [{'id': 0,\n    'name': 'Hero',\n    'friends': [{'id': 1,\n      'name': 'Dunn',\n      'friends': [{...},\n       {...},\n       {'id': 3,\n        'name': 'Chi',\n        'friends': [{...},\n         {...},\n         {'id': 4,\n          'name': 'Thor',\n          'friends': [{...},\n           {'id': 5,\n            'name': 'Clive',\n            'friends': [{...},\n             {'id': 6,\n              'name': 'Hikes',\n              'friends': [{...},\n               {'id': 8,\n                'name': 'Kate',\n                'friends': [{...},\n                 {'id': 7, 'name': 'Devin', 'friends': [{...}, {...}]},\n                 {'id': 9, 'name': 'Klein', 'friends': [{...}]}]}]},\n             {'id': 7,\n              'name': 'Devin',\n              'friends': [{...},\n               {'id': 8,\n                'name': 'Kate',\n                'friends': [{'id': 6,\n                  'name': 'Hikes',\n                  'friends': [{...}, {...}]},\n                 {...},\n                 {'id': 9, 'name': 'Klein', 'friends': [{...}]}]}]}]}]}]}]},\n     {...}]},\n   {'id': 1,\n    'name': 'Dunn',\n    'friends': [{'id': 0, 'name': 'Hero', 'friends': [{...}, {...}]},\n     {...},\n     {'id': 3,\n      'name': 'Chi',\n      'friends': [{...},\n       {...},\n       {'id': 4,\n        'name': 'Thor',\n        'friends': [{...},\n         {'id': 5,\n          'name': 'Clive',\n          'friends': [{...},\n           {'id': 6,\n            'name': 'Hikes',\n            'friends': [{...},\n             {'id': 8,\n              'name': 'Kate',\n              'friends': [{...},\n               {'id': 7, 'name': 'Devin', 'friends': [{...}, {...}]},\n               {'id': 9, 'name': 'Klein', 'friends': [{...}]}]}]},\n           {'id': 7,\n            'name': 'Devin',\n            'friends': [{...},\n             {'id': 8,\n              'name': 'Kate',\n              'friends': [{'id': 6,\n                'name': 'Hikes',\n                'friends': [{...}, {...}]},\n               {...},\n               {'id': 9, 'name': 'Klein', 'friends': [{...}]}]}]}]}]}]}]},\n   {'id': 3,\n    'name': 'Chi',\n    'friends': [{'id': 1,\n      'name': 'Dunn',\n      'friends': [{'id': 0, 'name': 'Hero', 'friends': [{...}, {...}]},\n       {...},\n       {...}]},\n     {...},\n     {'id': 4,\n      'name': 'Thor',\n      'friends': [{...},\n       {'id': 5,\n        'name': 'Clive',\n        'friends': [{...},\n         {'id': 6,\n          'name': 'Hikes',\n          'friends': [{...},\n           {'id': 8,\n            'name': 'Kate',\n            'friends': [{...},\n             {'id': 7, 'name': 'Devin', 'friends': [{...}, {...}]},\n             {'id': 9, 'name': 'Klein', 'friends': [{...}]}]}]},\n         {'id': 7,\n          'name': 'Devin',\n          'friends': [{...},\n           {'id': 8,\n            'name': 'Kate',\n            'friends': [{'id': 6, 'name': 'Hikes', 'friends': [{...}, {...}]},\n             {...},\n             {'id': 9, 'name': 'Klein', 'friends': [{...}]}]}]}]}]}]}]},\n {'id': 3,\n  'name': 'Chi',\n  'friends': [{'id': 1,\n    'name': 'Dunn',\n    'friends': [{'id': 0,\n      'name': 'Hero',\n      'friends': [{...},\n       {'id': 2, 'name': 'Sue', 'friends': [{...}, {...}, {...}]}]},\n     {'id': 2,\n      'name': 'Sue',\n      'friends': [{'id': 0, 'name': 'Hero', 'friends': [{...}, {...}]},\n       {...},\n       {...}]},\n     {...}]},\n   {'id': 2,\n    'name': 'Sue',\n    'friends': [{'id': 0,\n      'name': 'Hero',\n      'friends': [{'id': 1, 'name': 'Dunn', 'friends': [{...}, {...}, {...}]},\n       {...}]},\n     {'id': 1,\n      'name': 'Dunn',\n      'friends': [{'id': 0, 'name': 'Hero', 'friends': [{...}, {...}]},\n       {...},\n       {...}]},\n     {...}]},\n   {'id': 4,\n    'name': 'Thor',\n    'friends': [{...},\n     {'id': 5,\n      'name': 'Clive',\n      'friends': [{...},\n       {'id': 6,\n        'name': 'Hikes',\n        'friends': [{...},\n         {'id': 8,\n          'name': 'Kate',\n          'friends': [{...},\n           {'id': 7, 'name': 'Devin', 'friends': [{...}, {...}]},\n           {'id': 9, 'name': 'Klein', 'friends': [{...}]}]}]},\n       {'id': 7,\n        'name': 'Devin',\n        'friends': [{...},\n         {'id': 8,\n          'name': 'Kate',\n          'friends': [{'id': 6, 'name': 'Hikes', 'friends': [{...}, {...}]},\n           {...},\n           {'id': 9, 'name': 'Klein', 'friends': [{...}]}]}]}]}]}]},\n {'id': 4,\n  'name': 'Thor',\n  'friends': [{'id': 3,\n    'name': 'Chi',\n    'friends': [{'id': 1,\n      'name': 'Dunn',\n      'friends': [{'id': 0,\n        'name': 'Hero',\n        'friends': [{...},\n         {'id': 2, 'name': 'Sue', 'friends': [{...}, {...}, {...}]}]},\n       {'id': 2,\n        'name': 'Sue',\n        'friends': [{'id': 0, 'name': 'Hero', 'friends': [{...}, {...}]},\n         {...},\n         {...}]},\n       {...}]},\n     {'id': 2,\n      'name': 'Sue',\n      'friends': [{'id': 0,\n        'name': 'Hero',\n        'friends': [{'id': 1,\n          'name': 'Dunn',\n          'friends': [{...}, {...}, {...}]},\n         {...}]},\n       {'id': 1,\n        'name': 'Dunn',\n        'friends': [{'id': 0, 'name': 'Hero', 'friends': [{...}, {...}]},\n         {...},\n         {...}]},\n       {...}]},\n     {...}]},\n   {'id': 5,\n    'name': 'Clive',\n    'friends': [{...},\n     {'id': 6,\n      'name': 'Hikes',\n      'friends': [{...},\n       {'id': 8,\n        'name': 'Kate',\n        'friends': [{...},\n         {'id': 7, 'name': 'Devin', 'friends': [{...}, {...}]},\n         {'id': 9, 'name': 'Klein', 'friends': [{...}]}]}]},\n     {'id': 7,\n      'name': 'Devin',\n      'friends': [{...},\n       {'id': 8,\n        'name': 'Kate',\n        'friends': [{'id': 6, 'name': 'Hikes', 'friends': [{...}, {...}]},\n         {...},\n         {'id': 9, 'name': 'Klein', 'friends': [{...}]}]}]}]}]},\n {'id': 5,\n  'name': 'Clive',\n  'friends': [{'id': 4,\n    'name': 'Thor',\n    'friends': [{'id': 3,\n      'name': 'Chi',\n      'friends': [{'id': 1,\n        'name': 'Dunn',\n        'friends': [{'id': 0,\n          'name': 'Hero',\n          'friends': [{...},\n           {'id': 2, 'name': 'Sue', 'friends': [{...}, {...}, {...}]}]},\n         {'id': 2,\n          'name': 'Sue',\n          'friends': [{'id': 0, 'name': 'Hero', 'friends': [{...}, {...}]},\n           {...},\n           {...}]},\n         {...}]},\n       {'id': 2,\n        'name': 'Sue',\n        'friends': [{'id': 0,\n          'name': 'Hero',\n          'friends': [{'id': 1,\n            'name': 'Dunn',\n            'friends': [{...}, {...}, {...}]},\n           {...}]},\n         {'id': 1,\n          'name': 'Dunn',\n          'friends': [{'id': 0, 'name': 'Hero', 'friends': [{...}, {...}]},\n           {...},\n           {...}]},\n         {...}]},\n       {...}]},\n     {...}]},\n   {'id': 6,\n    'name': 'Hikes',\n    'friends': [{...},\n     {'id': 8,\n      'name': 'Kate',\n      'friends': [{...},\n       {'id': 7, 'name': 'Devin', 'friends': [{...}, {...}]},\n       {'id': 9, 'name': 'Klein', 'friends': [{...}]}]}]},\n   {'id': 7,\n    'name': 'Devin',\n    'friends': [{...},\n     {'id': 8,\n      'name': 'Kate',\n      'friends': [{'id': 6, 'name': 'Hikes', 'friends': [{...}, {...}]},\n       {...},\n       {'id': 9, 'name': 'Klein', 'friends': [{...}]}]}]}]},\n {'id': 6,\n  'name': 'Hikes',\n  'friends': [{'id': 5,\n    'name': 'Clive',\n    'friends': [{'id': 4,\n      'name': 'Thor',\n      'friends': [{'id': 3,\n        'name': 'Chi',\n        'friends': [{'id': 1,\n          'name': 'Dunn',\n          'friends': [{'id': 0,\n            'name': 'Hero',\n            'friends': [{...},\n             {'id': 2, 'name': 'Sue', 'friends': [{...}, {...}, {...}]}]},\n           {'id': 2,\n            'name': 'Sue',\n            'friends': [{'id': 0, 'name': 'Hero', 'friends': [{...}, {...}]},\n             {...},\n             {...}]},\n           {...}]},\n         {'id': 2,\n          'name': 'Sue',\n          'friends': [{'id': 0,\n            'name': 'Hero',\n            'friends': [{'id': 1,\n              'name': 'Dunn',\n              'friends': [{...}, {...}, {...}]},\n             {...}]},\n           {'id': 1,\n            'name': 'Dunn',\n            'friends': [{'id': 0, 'name': 'Hero', 'friends': [{...}, {...}]},\n             {...},\n             {...}]},\n           {...}]},\n         {...}]},\n       {...}]},\n     {...},\n     {'id': 7,\n      'name': 'Devin',\n      'friends': [{...},\n       {'id': 8,\n        'name': 'Kate',\n        'friends': [{...},\n         {...},\n         {'id': 9, 'name': 'Klein', 'friends': [{...}]}]}]}]},\n   {'id': 8,\n    'name': 'Kate',\n    'friends': [{...},\n     {'id': 7,\n      'name': 'Devin',\n      'friends': [{'id': 5,\n        'name': 'Clive',\n        'friends': [{'id': 4,\n          'name': 'Thor',\n          'friends': [{'id': 3,\n            'name': 'Chi',\n            'friends': [{'id': 1,\n              'name': 'Dunn',\n              'friends': [{'id': 0,\n                'name': 'Hero',\n                'friends': [{...},\n                 {'id': 2, 'name': 'Sue', 'friends': [{...}, {...}, {...}]}]},\n               {'id': 2,\n                'name': 'Sue',\n                'friends': [{'id': 0,\n                  'name': 'Hero',\n                  'friends': [{...}, {...}]},\n                 {...},\n                 {...}]},\n               {...}]},\n             {'id': 2,\n              'name': 'Sue',\n              'friends': [{'id': 0,\n                'name': 'Hero',\n                'friends': [{'id': 1,\n                  'name': 'Dunn',\n                  'friends': [{...}, {...}, {...}]},\n                 {...}]},\n               {'id': 1,\n                'name': 'Dunn',\n                'friends': [{'id': 0,\n                  'name': 'Hero',\n                  'friends': [{...}, {...}]},\n                 {...},\n                 {...}]},\n               {...}]},\n             {...}]},\n           {...}]},\n         {...},\n         {...}]},\n       {...}]},\n     {'id': 9, 'name': 'Klein', 'friends': [{...}]}]}]},\n {'id': 7,\n  'name': 'Devin',\n  'friends': [{'id': 5,\n    'name': 'Clive',\n    'friends': [{'id': 4,\n      'name': 'Thor',\n      'friends': [{'id': 3,\n        'name': 'Chi',\n        'friends': [{'id': 1,\n          'name': 'Dunn',\n          'friends': [{'id': 0,\n            'name': 'Hero',\n            'friends': [{...},\n             {'id': 2, 'name': 'Sue', 'friends': [{...}, {...}, {...}]}]},\n           {'id': 2,\n            'name': 'Sue',\n            'friends': [{'id': 0, 'name': 'Hero', 'friends': [{...}, {...}]},\n             {...},\n             {...}]},\n           {...}]},\n         {'id': 2,\n          'name': 'Sue',\n          'friends': [{'id': 0,\n            'name': 'Hero',\n            'friends': [{'id': 1,\n              'name': 'Dunn',\n              'friends': [{...}, {...}, {...}]},\n             {...}]},\n           {'id': 1,\n            'name': 'Dunn',\n            'friends': [{'id': 0, 'name': 'Hero', 'friends': [{...}, {...}]},\n             {...},\n             {...}]},\n           {...}]},\n         {...}]},\n       {...}]},\n     {'id': 6,\n      'name': 'Hikes',\n      'friends': [{...},\n       {'id': 8,\n        'name': 'Kate',\n        'friends': [{...},\n         {...},\n         {'id': 9, 'name': 'Klein', 'friends': [{...}]}]}]},\n     {...}]},\n   {'id': 8,\n    'name': 'Kate',\n    'friends': [{'id': 6,\n      'name': 'Hikes',\n      'friends': [{'id': 5,\n        'name': 'Clive',\n        'friends': [{'id': 4,\n          'name': 'Thor',\n          'friends': [{'id': 3,\n            'name': 'Chi',\n            'friends': [{'id': 1,\n              'name': 'Dunn',\n              'friends': [{'id': 0,\n                'name': 'Hero',\n                'friends': [{...},\n                 {'id': 2, 'name': 'Sue', 'friends': [{...}, {...}, {...}]}]},\n               {'id': 2,\n                'name': 'Sue',\n                'friends': [{'id': 0,\n                  'name': 'Hero',\n                  'friends': [{...}, {...}]},\n                 {...},\n                 {...}]},\n               {...}]},\n             {'id': 2,\n              'name': 'Sue',\n              'friends': [{'id': 0,\n                'name': 'Hero',\n                'friends': [{'id': 1,\n                  'name': 'Dunn',\n                  'friends': [{...}, {...}, {...}]},\n                 {...}]},\n               {'id': 1,\n                'name': 'Dunn',\n                'friends': [{'id': 0,\n                  'name': 'Hero',\n                  'friends': [{...}, {...}]},\n                 {...},\n                 {...}]},\n               {...}]},\n             {...}]},\n           {...}]},\n         {...},\n         {...}]},\n       {...}]},\n     {...},\n     {'id': 9, 'name': 'Klein', 'friends': [{...}]}]}]},\n {'id': 8,\n  'name': 'Kate',\n  'friends': [{'id': 6,\n    'name': 'Hikes',\n    'friends': [{'id': 5,\n      'name': 'Clive',\n      'friends': [{'id': 4,\n        'name': 'Thor',\n        'friends': [{'id': 3,\n          'name': 'Chi',\n          'friends': [{'id': 1,\n            'name': 'Dunn',\n            'friends': [{'id': 0,\n              'name': 'Hero',\n              'friends': [{...},\n               {'id': 2, 'name': 'Sue', 'friends': [{...}, {...}, {...}]}]},\n             {'id': 2,\n              'name': 'Sue',\n              'friends': [{'id': 0, 'name': 'Hero', 'friends': [{...}, {...}]},\n               {...},\n               {...}]},\n             {...}]},\n           {'id': 2,\n            'name': 'Sue',\n            'friends': [{'id': 0,\n              'name': 'Hero',\n              'friends': [{'id': 1,\n                'name': 'Dunn',\n                'friends': [{...}, {...}, {...}]},\n               {...}]},\n             {'id': 1,\n              'name': 'Dunn',\n              'friends': [{'id': 0, 'name': 'Hero', 'friends': [{...}, {...}]},\n               {...},\n               {...}]},\n             {...}]},\n           {...}]},\n         {...}]},\n       {...},\n       {'id': 7, 'name': 'Devin', 'friends': [{...}, {...}]}]},\n     {...}]},\n   {'id': 7,\n    'name': 'Devin',\n    'friends': [{'id': 5,\n      'name': 'Clive',\n      'friends': [{'id': 4,\n        'name': 'Thor',\n        'friends': [{'id': 3,\n          'name': 'Chi',\n          'friends': [{'id': 1,\n            'name': 'Dunn',\n            'friends': [{'id': 0,\n              'name': 'Hero',\n              'friends': [{...},\n               {'id': 2, 'name': 'Sue', 'friends': [{...}, {...}, {...}]}]},\n             {'id': 2,\n              'name': 'Sue',\n              'friends': [{'id': 0, 'name': 'Hero', 'friends': [{...}, {...}]},\n               {...},\n               {...}]},\n             {...}]},\n           {'id': 2,\n            'name': 'Sue',\n            'friends': [{'id': 0,\n              'name': 'Hero',\n              'friends': [{'id': 1,\n                'name': 'Dunn',\n                'friends': [{...}, {...}, {...}]},\n               {...}]},\n             {'id': 1,\n              'name': 'Dunn',\n              'friends': [{'id': 0, 'name': 'Hero', 'friends': [{...}, {...}]},\n               {...},\n               {...}]},\n             {...}]},\n           {...}]},\n         {...}]},\n       {'id': 6, 'name': 'Hikes', 'friends': [{...}, {...}]},\n       {...}]},\n     {...}]},\n   {'id': 9, 'name': 'Klein', 'friends': [{...}]}]},\n {'id': 9,\n  'name': 'Klein',\n  'friends': [{'id': 8,\n    'name': 'Kate',\n    'friends': [{'id': 6,\n      'name': 'Hikes',\n      'friends': [{'id': 5,\n        'name': 'Clive',\n        'friends': [{'id': 4,\n          'name': 'Thor',\n          'friends': [{'id': 3,\n            'name': 'Chi',\n            'friends': [{'id': 1,\n              'name': 'Dunn',\n              'friends': [{'id': 0,\n                'name': 'Hero',\n                'friends': [{...},\n                 {'id': 2, 'name': 'Sue', 'friends': [{...}, {...}, {...}]}]},\n               {'id': 2,\n                'name': 'Sue',\n                'friends': [{'id': 0,\n                  'name': 'Hero',\n                  'friends': [{...}, {...}]},\n                 {...},\n                 {...}]},\n               {...}]},\n             {'id': 2,\n              'name': 'Sue',\n              'friends': [{'id': 0,\n                'name': 'Hero',\n                'friends': [{'id': 1,\n                  'name': 'Dunn',\n                  'friends': [{...}, {...}, {...}]},\n                 {...}]},\n               {'id': 1,\n                'name': 'Dunn',\n                'friends': [{'id': 0,\n                  'name': 'Hero',\n                  'friends': [{...}, {...}]},\n                 {...},\n                 {...}]},\n               {...}]},\n             {...}]},\n           {...}]},\n         {...},\n         {'id': 7, 'name': 'Devin', 'friends': [{...}, {...}]}]},\n       {...}]},\n     {'id': 7,\n      'name': 'Devin',\n      'friends': [{'id': 5,\n        'name': 'Clive',\n        'friends': [{'id': 4,\n          'name': 'Thor',\n          'friends': [{'id': 3,\n            'name': 'Chi',\n            'friends': [{'id': 1,\n              'name': 'Dunn',\n              'friends': [{'id': 0,\n                'name': 'Hero',\n                'friends': [{...},\n                 {'id': 2, 'name': 'Sue', 'friends': [{...}, {...}, {...}]}]},\n               {'id': 2,\n                'name': 'Sue',\n                'friends': [{'id': 0,\n                  'name': 'Hero',\n                  'friends': [{...}, {...}]},\n                 {...},\n                 {...}]},\n               {...}]},\n             {'id': 2,\n              'name': 'Sue',\n              'friends': [{'id': 0,\n                'name': 'Hero',\n                'friends': [{'id': 1,\n                  'name': 'Dunn',\n                  'friends': [{...}, {...}, {...}]},\n                 {...}]},\n               {'id': 1,\n                'name': 'Dunn',\n                'friends': [{'id': 0,\n                  'name': 'Hero',\n                  'friends': [{...}, {...}]},\n                 {...},\n                 {...}]},\n               {...}]},\n             {...}]},\n           {...}]},\n         {'id': 6, 'name': 'Hikes', 'friends': [{...}, {...}]},\n         {...}]},\n       {...}]},\n     {...}]}]}]"
     },
     "metadata": {},
     "execution_count": 7
    }
   ],
   "source": [
    "# we want to populate the empty friend list of each user using the friendship data\n",
    "\n",
    "for i, j in frienships:\n",
    "    users[i][\"friends\"].append(users[j])\n",
    "    users[j][\"friends\"].append(users[i])\n",
    "users"
   ]
  },
  {
   "cell_type": "code",
   "execution_count": 9,
   "metadata": {},
   "outputs": [
    {
     "output_type": "stream",
     "name": "stdout",
     "text": "Total number of connection is : 24. \nAverage connection is : 2.4\n"
    }
   ],
   "source": [
    "from __future__ import division\n",
    "\n",
    "''' Once each user dict contains a list of friends, we can easily ask questions of our\n",
    "graph, like “what’s the average number of connections?”\n",
    "First we find the total number of connections, by summing up the lengths of all the\n",
    "friends lists:\n",
    "'''\n",
    "def number_of_friends(user):\n",
    "    ''' returns the number of friends of a user'''\n",
    "    return len(user[\"friends\"])\n",
    "\n",
    "total_connections = sum(number_of_friends(user)\n",
    "                            for user in users)\n",
    "\n",
    "print(f\"Total number of connection is : {total_connections}. \")\n",
    "''' To get the average number of connections '''\n",
    "\n",
    "\n",
    "num_users = len(users)\n",
    "avg_connections = total_connections / num_users\n",
    "\n",
    "print(f\"Average connection is : {avg_connections}\")"
   ]
  },
  {
   "cell_type": "code",
   "execution_count": 14,
   "metadata": {},
   "outputs": [
    {
     "output_type": "execute_result",
     "data": {
      "text/plain": "[(1, 3),\n (2, 3),\n (3, 3),\n (5, 3),\n (8, 3),\n (0, 2),\n (4, 2),\n (6, 2),\n (7, 2),\n (9, 1)]"
     },
     "metadata": {},
     "execution_count": 14
    }
   ],
   "source": [
    "'''\n",
    "It’s also easy to find the most connected people—they’re the people who have the larg‐\n",
    "est number of friends.\n",
    "Since there aren’t very many users, we can sort them from “most friends” to “least\n",
    "friends”:\n",
    "'''\n",
    "\n",
    "num_friends_by_id = [(user[\"id\"], number_of_friends(user))\n",
    "                        for user in users]\n",
    "\n",
    "sorted( num_friends_by_id,                                    # what we want to sort\n",
    "       key = lambda x : x[1],                                 # sort by num_friends  \n",
    "       reverse = True)                                        # from largest to smallest"
   ]
  },
  {
   "cell_type": "code",
   "execution_count": 17,
   "metadata": {},
   "outputs": [
    {
     "output_type": "execute_result",
     "data": {
      "text/plain": "[0, 2, 3, 0, 1, 3]"
     },
     "metadata": {},
     "execution_count": 17
    }
   ],
   "source": [
    "'''\n",
    "While you’re still filling out new-hire paperwork, the VP of Fraternization comes by\n",
    "your desk. She wants to encourage more connections among your members, and she\n",
    "asks you to design a “Data Scientists You May Know” suggester.\n",
    "Your first instinct is to suggest that a user might know the friends of friends. These\n",
    "are easy to compute: for each of a user’s friends, iterate over that person’s friends, and\n",
    "collect all the results:\n",
    "'''\n",
    "\n",
    "def friends_of_friend_ids_bad(user):\n",
    "    # foaf is short for \"friend of a friend\"\n",
    "    return [foaf[\"id\"]\n",
    "                for friend in user[\"friends\"]\n",
    "                for foaf in friend[\"friends\"]]\n",
    "\n",
    "\n",
    "friends_of_friend_ids_bad(users[0])"
   ]
  },
  {
   "cell_type": "code",
   "execution_count": null,
   "metadata": {},
   "outputs": [],
   "source": []
  }
 ],
 "metadata": {
  "language_info": {
   "codemirror_mode": {
    "name": "ipython",
    "version": 3
   },
   "file_extension": ".py",
   "mimetype": "text/x-python",
   "name": "python",
   "nbconvert_exporter": "python",
   "pygments_lexer": "ipython3",
   "version": "3.7.4-final"
  },
  "orig_nbformat": 2,
  "kernelspec": {
   "name": "python3",
   "display_name": "Python 3"
  }
 },
 "nbformat": 4,
 "nbformat_minor": 2
}